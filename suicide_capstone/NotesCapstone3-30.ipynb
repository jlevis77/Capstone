{
 "cells": [
  {
   "attachments": {},
   "cell_type": "markdown",
   "metadata": {},
   "source": [
    "## Capstone GDP & Suicide: A Global Correlation"
   ]
  },
  {
   "attachments": {},
   "cell_type": "markdown",
   "metadata": {},
   "source": [
    "Data sets:\n",
    "* Suicide rate by country\n",
    "* GDP per country\n",
    "* GDP growth as an annual %\n",
    "* Country % of deaths by suicide\n",
    "\n",
    "Sources:\n",
    "* The World Bank\n",
    "* Organization for Economic Co-operation & Development (OECD)\n",
    "* Our World in Data\n",
    "\n",
    "## Breakdown of datasets\n",
    "### Suicide rate by country:\n",
    "* From 'OECD'\n",
    "* Total suicide rates in country **per 100,000 persons** \n",
    "    * Suicide rates are defined as the deaths deliberately initiated and performed by a person in the full knowledge or expectation of its fatal outcome.\n",
    "   * Comparability of data between countries is affected by a number of reporting criteria, including how a person's intention of killing themselves is ascertained, who is responsible for completing the death certificate, whether a forensic investigation is carried out, and the provisions for confidentiality of the cause of death. **Caution is required therefore in interpreting variations across countries**\n",
    "\n",
    "### GDP per country:\n",
    "* From 'The World Bank'\n",
    "* GDP per country in current USD (last updated 12/22/2022)\n",
    "* GDP defined as: sum of gross value added by all resident producers in the economy plus any product taxes and minus any subsidiaries not included in the value of the products. It is calculated without making deductions for depreciation of fabricated assets or for depletion and degradation of natural resources.\n",
    "* $ figures for GDP are converted from domestic currencies using single year official exchange rates\n",
    "    * For a few countries where official exchange rate foes not reflect the rate effectively applied to actual foreign exchange transactions, an alternative conversion factor is used\n",
    "\n",
    "\n",
    "### GDP growth as an annual %:\n",
    "* From 'The World Bank'\n",
    "* GDP growth for each country that is given as an annual % (last updated 3/1/2023)\n",
    "    * Annual % growth rate of GDP at market prices based on local currency. Aggregates based on constant 2015 prices, expressed in USD. \n",
    "    * GDP defined as: sum of gross value added by all resident producers in the economy plus any product taxes and minus any subsidiaries not included in the value of the products. It is calculated without making deductions for depreciation of fabricated assets or for depletion and degradation of natural resources.\n",
    "* Also includes metadata on: region, income group, & 'special notes'\n",
    "\n",
    "### Deaths by suicide:\n",
    "* From 'Our World in Data'\n",
    "* Info. on global suicide. Gives the % of deaths caused by suicide for countries by year (1990-2018)\n",
    "    * Sex: Both, Age: All Ages, Given in %"
   ]
  },
  {
   "cell_type": "markdown",
   "metadata": {},
   "source": []
  }
 ],
 "metadata": {
  "language_info": {
   "name": "python"
  },
  "orig_nbformat": 4
 },
 "nbformat": 4,
 "nbformat_minor": 2
}
