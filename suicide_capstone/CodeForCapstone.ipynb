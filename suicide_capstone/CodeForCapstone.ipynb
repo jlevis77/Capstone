{
 "cells": [
  {
   "attachments": {},
   "cell_type": "markdown",
   "metadata": {},
   "source": [
    "### Capstone GDP & Suicide: A Global Correlation\n",
    "\n",
    "Beginning to import code & conduct preliminary analysis"
   ]
  },
  {
   "cell_type": "code",
   "execution_count": 46,
   "metadata": {},
   "outputs": [],
   "source": [
    "# import libraries\n",
    "import pandas as pd\n",
    "import numpy as np\n",
    "import matplotlib.pyplot as plt\n",
    "import seaborn as sns\n",
    "from sklearn.linear_model import LinearRegression\n",
    "import statsmodels.api as sm\n",
    "\n",
    "# load data from excel\n",
    "#df = pd.read_excel('C:/Users/jlevi/code/savvycoders/Capstone/suicide_capstone/FinalDatasets/TransposedDataSet.xlsx')\n",
    "\n",
    "# preliminary data check\n",
    "#print(df.head())\n",
    "#print(df.info())\n",
    "#print(df.describe())\n",
    "\n",
    "# Finish Cleaning Data:\n",
    "# remove country Turkey b/c missing a lot of values \n",
    "#df = df[df['Country'] != 'Turkiye']\n",
    "\n",
    "# change column name for suicide rates\n",
    "#df = df.rename(columns={'Suicide_Rate': 'SuicideRate'})\n",
    "\n",
    "# filter to years 1995-2017\n",
    "#df = df[(df['Year'] >= 1995) & (df['Year'] <= 2017)]\n",
    "\n",
    "# check\n",
    "#print(df['Country'].value_counts())\n",
    "\n"
   ]
  },
  {
   "cell_type": "code",
   "execution_count": 47,
   "metadata": {},
   "outputs": [
    {
     "name": "stdout",
     "output_type": "stream",
     "text": [
      "Index(['Country', 'Year', 'SuicideRate', 'GDP_USD', 'GDPGrowthAnnualPercent',\n",
      "       'RegionMetDataGDP', 'IncomeGroupFromGDP', 'SpecialNotesFromGDP'],\n",
      "      dtype='object')\n"
     ]
    }
   ],
   "source": [
    "# check null values\n",
    "#print(df.isnull())\n",
    "#sr_null_count = df['SuicideRate'].isnull().sum()\n",
    "#gdp_null_count = df['GDP_USD'].isnull().sum()\n",
    "#print(f\"# of null values in SuicideRate column: {sr_null_count}\")\n",
    "#print(f\"# of null values in GDP column: {gdp_null_count}\")\n",
    "\n",
    "# export to excel to look at null\n",
    "#df.to_excel('cleaned_dataset.xlsx', index=False)\n",
    "\n",
    "# import cleaned dataset\n",
    "df1 = pd.read_excel('C:/Users/jlevi/code/savvycoders/Capstone/suicide_capstone/FinalDatasets/final_cleaned_dataset.xlsx')\n",
    "print(df1.columns)\n"
   ]
  },
  {
   "attachments": {},
   "cell_type": "markdown",
   "metadata": {},
   "source": [
    "### Preliminary Analysis\n",
    "\n",
    "**Steps:**\n",
    "1. Calculate descriptive statistics for my var. of interest to gain understanding of distribution & variation of data\n",
    "2. Create scatter plots to visualize relationship between GDP & suicide rates for each country & year. **Check for outliers** or patterns\n",
    "3. Compute correlation coefficients to measure strength & direction of the linear relationship between GDP & suicide rates for each country & year. **Check for significant correlations**\n",
    "4. Run regression models to examine relationship\n",
    "* Unable to control for other variables such as population, income, inequality, & mental health expenditure, that may affect the relationship due to time/data constraints \n",
    "* Panel data - effect of GDP on suicide rate within each country & want to control for country specific factors that are constant over time (cultural stigma w mental health, cultural attitude to drinking, etc)\n",
    "* Time series data - overall effect of GDP on suicide rate across all countries over time\n",
    "5. Perform hypothesis tests to determine if relationship is statistically significant "
   ]
  },
  {
   "cell_type": "code",
   "execution_count": 49,
   "metadata": {},
   "outputs": [
    {
     "name": "stdout",
     "output_type": "stream",
     "text": [
      "Descriptive Statistics:\n",
      "\n",
      "GDP_USD Mean:  929992797455\n",
      "SuicideRate Mean:  14.839\n",
      "GDP_USD Median:  258000000000.0\n",
      "SuicideRate Median:  12.5\n",
      "GDP_USD Standard Deviation:  2195774979277.486\n",
      "SuicideRate Standard Deviation:  11.006\n",
      "GDP_USD Variance:  4.821427759621045e+24\n",
      "SuicideRate Variance:  120.973\n",
      "GDP_USD Min:  4502970889\n",
      "SuicideRate Min:  0.4\n",
      "GDP_USD Max:  19500000000000\n",
      "SuicideRate Max:  214.0\n",
      "GDP_USD Skewness:  5.261\n",
      "SuicideRate Skewness:  6.526\n",
      "GDP_USD Kurtosis:  32.198\n",
      "Suiciderate Kurtosis:  105.862\n"
     ]
    }
   ],
   "source": [
    "# descriptive statistics\n",
    "# mean/median\n",
    "gdp_mean = np.mean(df1['GDP_USD'])\n",
    "suicide_rate_mean = np.mean(df1['SuicideRate'])\n",
    "\n",
    "gdp_median = np.median(df1['GDP_USD'])\n",
    "suicide_rate_median = np.median(df1['SuicideRate'])\n",
    "\n",
    "# st dev / variance\n",
    "gdp_stdev = np.std(df1['GDP_USD'])\n",
    "suicide_rate_stdev = np.std(df['SuicideRate'])\n",
    "\n",
    "gdp_var = np.var(df1['GDP_USD'])\n",
    "suicide_rate_var = np.var(df1['SuicideRate'])\n",
    "\n",
    "# min/max\n",
    "gdp_min = np.min(df1['GDP_USD'])\n",
    "suicide_rate_min = np.min(df1['SuicideRate'])\n",
    "\n",
    "gdp_max = np.max(df1['GDP_USD'])\n",
    "suicide_rate_max = np.max(df1['SuicideRate'])\n",
    "\n",
    "# skewness/kurtosis/correlation matrix\n",
    "gdp_skew = df1['GDP_USD'].skew()\n",
    "suicide_rate_skew = df1['SuicideRate'].skew()\n",
    "\n",
    "gdp_kurt = df1['GDP_USD'].kurtosis()\n",
    "suicide_rate_kurt = df1['SuicideRate'].kurtosis()\n",
    "\n",
    "#gdp_corr = df[['GDP_USD']].corr()\n",
    "#suicide_rate_corr = df[['SuicideRate']].corr()\n",
    "\n",
    "# print descriptive statistics\n",
    "print('Descriptive Statistics:\\n') #print descriptive statistics string\n",
    "print('GDP_USD Mean: ', round(gdp_mean))\n",
    "print('SuicideRate Mean: ', round(suicide_rate_mean,3))\n",
    "print('GDP_USD Median: ', gdp_median)\n",
    "print('SuicideRate Median: ', suicide_rate_median)\n",
    "print('GDP_USD Standard Deviation: ', round(gdp_stdev, 3))\n",
    "print('SuicideRate Standard Deviation: ', round(suicide_rate_stdev,3))\n",
    "print('GDP_USD Variance: ', round(gdp_var,3))\n",
    "print('SuicideRate Variance: ', round(suicide_rate_var,3))\n",
    "print('GDP_USD Min: ', round(gdp_min))\n",
    "print('SuicideRate Min: ', suicide_rate_min)\n",
    "print('GDP_USD Max: ', gdp_max)\n",
    "print('SuicideRate Max: ', suicide_rate_max)\n",
    "print('GDP_USD Skewness: ', round(gdp_skew,3))\n",
    "print('SuicideRate Skewness: ', round(suicide_rate_skew,3))\n",
    "print('GDP_USD Kurtosis: ', round(gdp_kurt,3))\n",
    "print('SuicideRate Kurtosis: ', round(suicide_rate_kurt,3))\n",
    "\n",
    "\n",
    "\n"
   ]
  },
  {
   "attachments": {},
   "cell_type": "markdown",
   "metadata": {},
   "source": [
    "### Preliminary analysis from descriptive statistics\n",
    "\n",
    "Both GDP and suicide rate have a wide range of values. GDP ranges from 4.5 billion USD to 19.5 trillion USD. Suicide rate ranges from 0.4 to 214. Looking at the means of the two, suggests that GDP is generally much higher than suicide rate across the sample\n",
    "\n",
    "Both variables have a positive skewness, w suicide rate having slightly higher. Suggesting more extreme values on the right-hand side of the distribution for both. Kurtosis are also quite high for both, indicating both distributions have more extreme values than a normal distribution. \n",
    "\n",
    "Overall this suggests there may be challenges when modeling this relationship due to extreme values in data\n",
    "* use robust statistical methods"
   ]
  },
  {
   "cell_type": "code",
   "execution_count": 66,
   "metadata": {},
   "outputs": [
    {
     "data": {
      "text/plain": [
       "Text(0.5, 1.0, 'Relationship between GDP & Suicide Rate')"
      ]
     },
     "execution_count": 66,
     "metadata": {},
     "output_type": "execute_result"
    },
    {
     "data": {
      "image/png": "[encoded data removed]",
      "text/plain": [
       "<Figure size 640x480 with 1 Axes>"
      ]
     },
     "metadata": {},
     "output_type": "display_data"
    }
   ],
   "source": [
    "# filter outliers out\n",
    "#q = df['SuicideRate'].quantile(0.95)\n",
    "# df1 = df1[df1['SuicideRate'] <= q]\n",
    "\n",
    "# set log scale on y-axis\n",
    "#plt.yscale('log')\n",
    "\n",
    "# plot random sample \n",
    "#sample = df.sample(75)\n",
    "#plt.scatter(sample['GDP_USD'], sample['SuicideRate'])\n",
    "\n",
    "# set axis labels & titles\n",
    "#plt.yticks([0.5, 1, 1.5, 2, 2.5, 3, 3.5, 4, 4.5, 5, 5.5, 6, 6.5, 7, 7.5, 8, 8.5, 9, 9.5, 10])\n",
    "#plt.xlabel('GDP')\n",
    "#plt.ylabel('Suicide Rate')\n",
    "#plt.title('Relationship between GDP & Suicide Rate')\n",
    "\n",
    "# visualizations\n",
    "#plt.scatter(df1['GDP_USD'], df1['SuicideRate'])\n",
    "#plt.title('GDP vs. Suicide Rate')\n",
    "#plt.xlabel('GDP (USD)')\n",
    "#plt.ylabel('Suicide Rate (per 100k)')\n",
    "#plt.show()"
   ]
  },
  {
   "attachments": {},
   "cell_type": "markdown",
   "metadata": {},
   "source": [
    "### Later part "
   ]
  },
  {
   "cell_type": "code",
   "execution_count": 69,
   "metadata": {},
   "outputs": [
    {
     "name": "stdout",
     "output_type": "stream",
     "text": [
      "                            OLS Regression Results                            \n",
      "==============================================================================\n",
      "Dep. Variable:            SuicideRate   R-squared:                       0.001\n",
      "Model:                            OLS   Adj. R-squared:                 -0.000\n",
      "Method:                 Least Squares   F-statistic:                    0.6350\n",
      "Date:                Mon, 03 Apr 2023   Prob (F-statistic):              0.426\n",
      "Time:                        21:39:57   Log-Likelihood:                -3245.4\n",
      "No. Observations:                 961   AIC:                             6495.\n",
      "Df Residuals:                     959   BIC:                             6505.\n",
      "Df Model:                           1                                         \n",
      "Covariance Type:            nonrobust                                         \n",
      "==============================================================================\n",
      "                 coef    std err          t      P>|t|      [0.025      0.975]\n",
      "------------------------------------------------------------------------------\n",
      "const         13.4142      0.249     53.801      0.000      12.925      13.903\n",
      "GDP_USD    -8.123e-14   1.02e-13     -0.797      0.426   -2.81e-13    1.19e-13\n",
      "==============================================================================\n",
      "Omnibus:                       56.853   Durbin-Watson:                   0.140\n",
      "Prob(Omnibus):                  0.000   Jarque-Bera (JB):               66.159\n",
      "Skew:                           0.643   Prob(JB):                     4.30e-15\n",
      "Kurtosis:                       3.024   Cond. No.                     2.66e+12\n",
      "==============================================================================\n",
      "\n",
      "Notes:\n",
      "[1] Standard Errors assume that the covariance matrix of the errors is correctly specified.\n",
      "[2] The condition number is large, 2.66e+12. This might indicate that there are\n",
      "strong multicollinearity or other numerical problems.\n"
     ]
    }
   ],
   "source": [
    "# run OLS regression\n",
    "# Define variables\n",
    "y = df1['SuicideRate'] # Independent var\n",
    "X = df1['GDP_USD'] # Dependent var\n",
    "\n",
    "X = sm.add_constant(X) # Add a constant to the independent var. \n",
    "\n",
    "# create & fit a linear regression model \n",
    "model = sm.OLS(y, X) \n",
    "results = model.fit()\n",
    "\n",
    "# print results\n",
    "print(results.summary())"
   ]
  },
  {
   "attachments": {},
   "cell_type": "markdown",
   "metadata": {},
   "source": [
    "### Results from regression\n",
    "\n",
    "Indicates a weak relationship between GDP & Suicide Rate. R squared indicates only 0.1% of the variance in suicide rate is explained by GDP. The p value shows that it is not statistically significant. No linear relationship. Suggestion possible multicollinearity or numerical issues\n"
   ]
  },
  {
   "cell_type": "code",
   "execution_count": 70,
   "metadata": {},
   "outputs": [
    {
     "ename": "NameError",
     "evalue": "name 'panel_data' is not defined",
     "output_type": "error",
     "traceback": [
      "\u001b[1;31m---------------------------------------------------------------------------\u001b[0m",
      "\u001b[1;31mNameError\u001b[0m                                 Traceback (most recent call last)",
      "Cell \u001b[1;32mIn[70], line 3\u001b[0m\n\u001b[0;32m      1\u001b[0m \u001b[39m# try panel data\u001b[39;00m\n\u001b[0;32m      2\u001b[0m \u001b[39m# set index to panel data\u001b[39;00m\n\u001b[1;32m----> 3\u001b[0m panel_data \u001b[39m=\u001b[39m panel_data\u001b[39m.\u001b[39mset_index([\u001b[39m'\u001b[39m\u001b[39mpanel_index\u001b[39m\u001b[39m'\u001b[39m])\n\u001b[0;32m      5\u001b[0m \u001b[39m#create time var\u001b[39;00m\n\u001b[0;32m      6\u001b[0m panel_data[\u001b[39m'\u001b[39m\u001b[39mtime\u001b[39m\u001b[39m'\u001b[39m] \u001b[39m=\u001b[39m panel_data\u001b[39m.\u001b[39mindex\u001b[39m.\u001b[39mstr\u001b[39m.\u001b[39msplit(\u001b[39m'\u001b[39m\u001b[39m-\u001b[39m\u001b[39m'\u001b[39m, expand \u001b[39m=\u001b[39m \u001b[39mTrue\u001b[39;00m)[\u001b[39m1\u001b[39m]\u001b[39m.\u001b[39mastype(\u001b[39mint\u001b[39m)\n",
      "\u001b[1;31mNameError\u001b[0m: name 'panel_data' is not defined"
     ]
    }
   ],
   "source": [
    "# try panel data\n",
    "# set index to panel data\n",
    "\n",
    "panel_data = panel_data.set_index(['panel_index'])\n",
    "\n",
    "#create time var\n",
    "panel_data['time'] = panel_data.index.str.split('-', expand = True)[1].astype(int)\n",
    "\n",
    "panel_data = panel_data.set_index(['panel_index', 'time'])\n",
    "\n",
    "y = panel_data['suicide_rate']\n",
    "X = panel_data[['GDP_USD',]]\n",
    "\n",
    "X= sm.add_constant(X)\n",
    "\n",
    "model = sm.PanelOLS(y, X, entity_effects=True, time_effects=True)\n",
    "results = model.fit(cov_type='clusterd', cluster_entity=True)\n",
    "\n",
    "print(results.summary())"
   ]
  },
  {
   "cell_type": "code",
   "execution_count": null,
   "metadata": {},
   "outputs": [],
   "source": []
  },
  {
   "cell_type": "code",
   "execution_count": null,
   "metadata": {},
   "outputs": [],
   "source": [
    "# run linear regression model\n",
    "X = df1[['GDP_USD']] # independent variable\n",
    "y = df1['Suicide_Rate'] # dependent variable\n",
    "model = LinearRegression().fir(X,y)\n",
    "\n",
    "# print the model coefficients\n",
    "#print(model.intercept_)\n",
    "#print(model.coef_)\n",
    "\n"
   ]
  },
  {
   "cell_type": "code",
   "execution_count": null,
   "metadata": {},
   "outputs": [],
   "source": [
    "# use statsmodels to run regression & print summary\n",
    "X = sm.add_constant(X)\n",
    "model = sm.OLS(y, X).fit()\n",
    "print(model.summary())"
   ]
  },
  {
   "attachments": {},
   "cell_type": "markdown",
   "metadata": {},
   "source": [
    "\n"
   ]
  }
 ],
 "metadata": {
  "kernelspec": {
   "display_name": "Python 3",
   "language": "python",
   "name": "python3"
  },
  "language_info": {
   "codemirror_mode": {
    "name": "ipython",
    "version": 3
   },
   "file_extension": ".py",
   "mimetype": "text/x-python",
   "name": "python",
   "nbconvert_exporter": "python",
   "pygments_lexer": "ipython3",
   "version": "3.11.1"
  },
  "orig_nbformat": 4,
  "vscode": {
   "interpreter": {
    "hash": "b34ede01d81fec1e4bfaa8b72a495b9f5a0f08fdd35af1450f968fec728efb6d"
   }
  }
 },
 "nbformat": 4,
 "nbformat_minor": 2
}
