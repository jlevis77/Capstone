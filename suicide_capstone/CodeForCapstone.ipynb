{
 "cells": [
  {
   "attachments": {},
   "cell_type": "markdown",
   "metadata": {},
   "source": [
    "### Capstone GDP & Suicide: A Global Correlation\n",
    "\n",
    "Beginning to import code & conduct preliminary analysis"
   ]
  },
  {
   "cell_type": "code",
   "execution_count": 14,
   "metadata": {},
   "outputs": [
    {
     "name": "stdout",
     "output_type": "stream",
     "text": [
      "Australia          23\n",
      "Austria            23\n",
      "Portugal           23\n",
      "Slovak Republic    23\n",
      "Spain              23\n",
      "Sweden             23\n",
      "Switzerland        23\n",
      "United Kingdom     23\n",
      "United States      23\n",
      "Brazil             23\n",
      "Chile              23\n",
      "Estonia            23\n",
      "Israel             23\n",
      "Romania            23\n",
      "Russia             23\n",
      "Slovenia           23\n",
      "South Africa       23\n",
      "Colombia           23\n",
      "Latvia             23\n",
      "Lithuania          23\n",
      "Costa Rica         23\n",
      "Poland             23\n",
      "Norway             23\n",
      "New Zealand        23\n",
      "Greece             23\n",
      "Belgium            23\n",
      "Bulgaria           23\n",
      "Canada             23\n",
      "Czech Republic     23\n",
      "Denmark            23\n",
      "Finland            23\n",
      "France             23\n",
      "Germany            23\n",
      "Croatia            23\n",
      "Netherlands        23\n",
      "Hungary            23\n",
      "Iceland            23\n",
      "Ireland            23\n",
      "Italy              23\n",
      "Japan              23\n",
      "Korea              23\n",
      "Luxembourg         23\n",
      "Mexico             23\n",
      "Argentina          23\n",
      "Name: Country, dtype: int64\n"
     ]
    }
   ],
   "source": [
    "# import libraries\n",
    "import pandas as pd\n",
    "import numpy as np\n",
    "import matplotlib.pyplot as plt\n",
    "import seaborn as sns\n",
    "from sklearn.linear_model import LinearRegression\n",
    "import statsmodels.api as sm\n",
    "\n",
    "# load data from excel\n",
    "df = pd.read_excel('C:/Users/jlevi/code/savvycoders/Capstone/suicide capstone/FinalDatasets/TransposedDataSet.xlsx')\n",
    "\n",
    "# preliminary data check\n",
    "#print(df.head())\n",
    "#print(df.info())\n",
    "#print(df.describe())\n",
    "\n",
    "# Finish Cleaning Data:\n",
    "# remove country Turkey b/c missing a lot of values \n",
    "df = df[df['Country'] != 'Turkiye']\n",
    "\n",
    "# filter to years 1995-2017\n",
    "df = df[(df['Year'] >= 1995) & (df['Year'] <= 2017)]\n",
    "\n",
    "# check\n",
    "print(df['Country'].value_counts())"
   ]
  },
  {
   "attachments": {},
   "cell_type": "markdown",
   "metadata": {},
   "source": [
    "### Preliminary Analysis\n",
    "\n",
    "**Steps:**\n",
    "1. Calculate descriptive statistics for my var. of interest to gain understanding of distribution & variation of data\n",
    "2. Create scatter plots to visualize relationship between GDP & suicide rates for each country & year. **Check for outliers** or patterns\n",
    "3. Compute correlation coefficients to measure strength & direction of the linear relationship between GDP & suicide rates for each country & year. **Check for significant correlations**\n",
    "4. Run regression models to examine relationship\n",
    "* Unable to control for other variables such as population, income, inequality, & mental health expenditure, that may affect the relationship due to time/data constraints \n",
    "* Panel data - effect of GDP on suicide rate within each country & want to control for country specific factors that are constant over time (cultural stigma w mental health, cultural attitude to drinking, etc)\n",
    "* Time series data - overall effect of GDP on suicide rate across all countries over time\n",
    "5. Perform hypothesis tests to determine if relationship is statistically significant "
   ]
  },
  {
   "cell_type": "code",
   "execution_count": null,
   "metadata": {},
   "outputs": [],
   "source": []
  },
  {
   "attachments": {},
   "cell_type": "markdown",
   "metadata": {},
   "source": [
    "### Later part "
   ]
  },
  {
   "cell_type": "code",
   "execution_count": null,
   "metadata": {},
   "outputs": [],
   "source": [
    "# run linear regression model\n",
    "X = df[['GDP_USD']] # independent variable\n",
    "y = df['Suicide_Rate'] # dependent variable\n",
    "model = LinearRegression().fir(X,y)\n",
    "\n",
    "# print the model coefficients\n",
    "#print(model.intercept_)\n",
    "#print(model.coef_)\n",
    "\n"
   ]
  },
  {
   "cell_type": "code",
   "execution_count": null,
   "metadata": {},
   "outputs": [],
   "source": [
    "# use statsmodels to run regression & print summary\n",
    "X = sm.add_constant(X)\n",
    "model = sm.OLS(y, X).fit()\n",
    "print(model.summary())"
   ]
  }
 ],
 "metadata": {
  "kernelspec": {
   "display_name": "Python 3",
   "language": "python",
   "name": "python3"
  },
  "language_info": {
   "codemirror_mode": {
    "name": "ipython",
    "version": 3
   },
   "file_extension": ".py",
   "mimetype": "text/x-python",
   "name": "python",
   "nbconvert_exporter": "python",
   "pygments_lexer": "ipython3",
   "version": "3.11.1"
  },
  "orig_nbformat": 4
 },
 "nbformat": 4,
 "nbformat_minor": 2
}
